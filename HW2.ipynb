{
 "cells": [
  {
   "cell_type": "markdown",
   "metadata": {},
   "source": [
    "Входные данные\n",
    "Релевантность будем считать сразу с вводом данных\n",
    "\n",
    "Создадим супер-пупер-мега-словарик с записью фичей и релевантности в последнем элементе"
   ]
  },
  {
   "cell_type": "code",
   "execution_count": 24,
   "metadata": {},
   "outputs": [],
   "source": [
    "from collections import defaultdict\n",
    "n = int(input())\n",
    "params = list(map(int, input().split()))\n",
    "\n",
    "d = int(input())\n",
    "features = defaultdict(list)\n",
    "for i in range(d):\n",
    "    obj_features = list(map(int, input().split()))\n",
    "    relevance = sum(map(lambda x, y: x*y, obj_features, params))\n",
    "    obj_features.append(relevance)\n",
    "    features[i] = obj_features\n",
    "\n",
    "q = int(input())\n",
    "queries = []\n",
    "\n",
    "for i in range(q):\n",
    "    query = list(map(int, input().split(' ')))\n",
    "    queries.append(query)\n"
   ]
  },
  {
   "cell_type": "code",
   "execution_count": null,
   "metadata": {},
   "outputs": [
    {
     "name": "stdout",
     "output_type": "stream",
     "text": [
      "1 10\n",
      "1 10 9 8 7 6 5 4 3 2\n",
      "4 1 10 9 8 7 6 5 3 2\n"
     ]
    }
   ],
   "source": [
    "for query in queries:\n",
    "    if query[0] == 1:\n",
    "        k = query[1]\n",
    "        \n",
    "        relevance_sort = sorted(features.items(), key=lambda item: item[1][-1], reverse = True) \n",
    "        print(' '.join(map(str, [(item[0]+1) for item in relevance_sort[:k]])))\n",
    "        #по времени O(NlogN), по памяти - O(dlogd + k)\n",
    "\n",
    "    elif query[0] == 2:\n",
    "        i = query[1]\n",
    "        j = query[2]\n",
    "        v = query[3]\n",
    "        features[i-1][j-1] = v #по времени - O(1)\n",
    "        features[i-1][-1] = sum(map(lambda x, y: x*y, features[i-1][:d], params))\n",
    "                #пересчет значения релевантности O(n)"
   ]
  },
  {
   "cell_type": "markdown",
   "metadata": {},
   "source": [
    "2\n",
    "1 100\n",
    "10\n",
    "1 2\n",
    "2 1\n",
    "3 1\n",
    "4 1\n",
    "5 1\n",
    "6 1\n",
    "7 1\n",
    "8 1\n",
    "9 1\n",
    "10 1\n",
    "4\n",
    "1 2\n",
    "1 10\n",
    "2 4 1 1000\n",
    "1 10"
   ]
  }
 ],
 "metadata": {
  "kernelspec": {
   "display_name": "Python 3",
   "language": "python",
   "name": "python3"
  },
  "language_info": {
   "codemirror_mode": {
    "name": "ipython",
    "version": 3
   },
   "file_extension": ".py",
   "mimetype": "text/x-python",
   "name": "python",
   "nbconvert_exporter": "python",
   "pygments_lexer": "ipython3",
   "version": "3.9.6"
  }
 },
 "nbformat": 4,
 "nbformat_minor": 2
}
