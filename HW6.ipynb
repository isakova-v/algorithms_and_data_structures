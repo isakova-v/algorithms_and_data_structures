{
 "cells": [
  {
   "cell_type": "code",
   "execution_count": 7,
   "metadata": {},
   "outputs": [
    {
     "name": "stdout",
     "output_type": "stream",
     "text": [
      "2024-09-16\n"
     ]
    }
   ],
   "source": [
    "import ast\n",
    "from collections import deque\n",
    "import operator\n",
    "\n",
    "dates = ast.literal_eval(input())\n",
    "\n",
    "def full_house(dates: list):\n",
    "    help_stack = deque()\n",
    "    dates_brackets = []\n",
    "\n",
    "    for start_finish in dates:\n",
    "        dates_brackets.append((start_finish[0], '('))\n",
    "        dates_brackets.append((start_finish[1], ')'))\n",
    "    dates_brackets = sorted(dates_brackets, key=operator.itemgetter(0))\n",
    "\n",
    "    full_house_date = None\n",
    "    full_house_persons = 0\n",
    "\n",
    "    for el in dates_brackets:\n",
    "        if help_stack:\n",
    "            if help_stack[-1] == '(' and el[1] == ')':\n",
    "                if len(help_stack) > full_house_persons:\n",
    "                    full_house_persons = len(help_stack)\n",
    "                    full_house_date = el[0]\n",
    "                help_stack.pop()\n",
    "            else:\n",
    "                help_stack.append(el[1])\n",
    "        else:\n",
    "            help_stack.append(el[1])\n",
    "\n",
    "    return full_house_date       \n",
    "\n",
    "print(full_house(dates))"
   ]
  },
  {
   "cell_type": "markdown",
   "metadata": {},
   "source": [
    "[(\"2024-09-15\", \"2024-09-18\"), (\"2024-09-14\", \"2024-09-21\"), (\"2024-09-14\", \"2024-09-16\")]"
   ]
  }
 ],
 "metadata": {
  "kernelspec": {
   "display_name": "Python 3",
   "language": "python",
   "name": "python3"
  },
  "language_info": {
   "codemirror_mode": {
    "name": "ipython",
    "version": 3
   },
   "file_extension": ".py",
   "mimetype": "text/x-python",
   "name": "python",
   "nbconvert_exporter": "python",
   "pygments_lexer": "ipython3",
   "version": "3.9.6"
  }
 },
 "nbformat": 4,
 "nbformat_minor": 2
}
