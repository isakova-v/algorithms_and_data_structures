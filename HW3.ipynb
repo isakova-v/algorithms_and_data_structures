{
 "cells": [
  {
   "cell_type": "markdown",
   "metadata": {},
   "source": [
    "Бинарное дерево поиска.\n",
    "Затраты по памяти - O(n)\n",
    "Операция вставки - O(log n) (худший случай - O(n))\n",
    "Инвертирование - O(N) (по доп памяти О(N), в лучшем случае O(1))"
   ]
  },
  {
   "cell_type": "code",
   "execution_count": 29,
   "metadata": {},
   "outputs": [],
   "source": [
    "from collections import deque\n",
    "\n",
    "class Node():\n",
    "    def __init__(self, data):\n",
    "        self.data = data\n",
    "        self.left = None\n",
    "        self.right = None\n",
    " \n",
    "class BinarySearchTree():\n",
    "    def __init__(self):\n",
    "        self.root = None\n",
    "        self.count = 0\n",
    "\n",
    "    def tree_print(self):\n",
    "        self.__tree_print(self.root)\n",
    "\n",
    "    def tree_walk_horisontal(self):\n",
    "        if self.root is not None:\n",
    "            self.__tree_walk_hor([self.root])\n",
    "        \n",
    "    def __tree_walk_hor(self, nodes: list):\n",
    "        new_list = []\n",
    "        if len(nodes) == 0:\n",
    "            return\n",
    "        for obj in nodes:\n",
    "            print(obj.data, end = \" \")\n",
    "            if obj.left is not None:\n",
    "                new_list.append(obj.left)\n",
    "            if obj.right is not None:\n",
    "                new_list.append(obj.right)\n",
    "        print()\n",
    "        self.__tree_walk_hor(new_list)\n",
    "        \n",
    "    def __tree_print(self, node):\n",
    "        if node is not None:\n",
    "            print(node.data)\n",
    "            print(\"left\", node.left.data if (node.left is not None) else None)\n",
    "            print(\"right\", node.right.data if (node.right is not None) else None)\n",
    "            print('-' * 100)\n",
    "            self.__tree_print(node.left)\n",
    "            self.__tree_print(node.right)\n",
    "\n",
    "    def __height(self, node):\n",
    "        self.count += 1\n",
    "        if node is None:\n",
    "            return 0\n",
    "        return max(self.__height(node.left), self.__height(node.right)) + 1\n",
    "    \n",
    "    def height(self):\n",
    "        if self.root is None:\n",
    "            return 0\n",
    "        return self.__height(self.root)\n",
    "    \n",
    "    def add(self, data):\n",
    "        if self.root is None:\n",
    "            self.root = Node(data)\n",
    "        else:\n",
    "            node = self.root\n",
    "            while node is not None:\n",
    "                if data < node.data:\n",
    "                    if node.left is None:\n",
    "                        node.left = Node(data)\n",
    "                        node.left.parent = node\n",
    "                        break\n",
    "                    else:\n",
    "                        node = node.left\n",
    "                elif data > node.data:\n",
    "                    if node.right is None:\n",
    "                        node.right = Node(data)\n",
    "                        node.right.parent = node\n",
    "                        break\n",
    "                    else:\n",
    "                        node = node.right\n",
    "                else:\n",
    "                    break\n",
    "\n",
    "    def __balance(self, node):\n",
    "        self.count += 1\n",
    "        if node is not None:\n",
    "            node.left = self.__balance(node.left)\n",
    "            hl = self.__height(node.left)\n",
    "            hr = self.__height(node.right)\n",
    "            if (hl-hr) > 1:\n",
    "                hll = self.__height(node.left.left)\n",
    "                hlr = self.__height(node.left.right)\n",
    "                if hll < hlr:\n",
    "                    node.left = self.smallRotate(node.left, -1)\n",
    "                node = self.smallRotate(node, 1)\n",
    "            \n",
    "            node.right = self.__balance(node.right)\n",
    "            hl = self.__height(node.left)\n",
    "            hr = self.__height(node.right)\n",
    "            if (hr - hl) > 1:\n",
    "                hrl = self.__height(node.right.left)\n",
    "                hrr = self.__height(node.right.right)\n",
    "                if hrl > hrr:\n",
    "                    node.right = self.smallRotate(node.right, 1)\n",
    "                node = self.smallRotate(node, -1)\n",
    "        return node\n",
    "                \n",
    "    def balance(self):\n",
    "        self.count = 0\n",
    "        if self.root is not None:\n",
    "            self.root = self.__balance(self.root)\n",
    "        return self.count\n",
    "\n",
    "    def smallRotate(self, node, rotDir):\n",
    "        self.count += 1\n",
    "        if rotDir == 1: #rotation to the right\n",
    "            p = node\n",
    "            q = node.left\n",
    "            b = q.right\n",
    "            node = q\n",
    "            node.right = p\n",
    "            p.left = b\n",
    "        if rotDir == -1: #rotation to the left\n",
    "            q = node\n",
    "            p = node.right\n",
    "            b = p.left\n",
    "            node = p\n",
    "            node.left = q\n",
    "            q.right = b\n",
    "        return node\n",
    "    \n",
    "    def invert_tree(self):\n",
    "        if self.root is None:\n",
    "            return None\n",
    "        \n",
    "        queue = deque([self.root])\n",
    "        while queue:\n",
    "            cur_node = queue.popleft()\n",
    "            cur_node.left, cur_node.right = cur_node.right, cur_node.left\n",
    "\n",
    "            if cur_node.left:\n",
    "                queue.append(cur_node.left)\n",
    "            if cur_node.right:\n",
    "                queue.append(cur_node.right)"
   ]
  },
  {
   "cell_type": "code",
   "execution_count": 30,
   "metadata": {},
   "outputs": [],
   "source": [
    "tree = BinarySearchTree()\n",
    "tree.tree_print()"
   ]
  },
  {
   "cell_type": "code",
   "execution_count": 31,
   "metadata": {},
   "outputs": [
    {
     "name": "stdout",
     "output_type": "stream",
     "text": [
      "6\n",
      "left None\n",
      "right None\n",
      "----------------------------------------------------------------------------------------------------\n"
     ]
    }
   ],
   "source": [
    "tree.add(6)\n",
    "tree.tree_print()"
   ]
  },
  {
   "cell_type": "code",
   "execution_count": 32,
   "metadata": {},
   "outputs": [
    {
     "name": "stdout",
     "output_type": "stream",
     "text": [
      "6\n",
      "left 2\n",
      "right 20\n",
      "----------------------------------------------------------------------------------------------------\n",
      "2\n",
      "left None\n",
      "right 5\n",
      "----------------------------------------------------------------------------------------------------\n",
      "5\n",
      "left None\n",
      "right None\n",
      "----------------------------------------------------------------------------------------------------\n",
      "20\n",
      "left 8\n",
      "right 60\n",
      "----------------------------------------------------------------------------------------------------\n",
      "8\n",
      "left 7\n",
      "right None\n",
      "----------------------------------------------------------------------------------------------------\n",
      "7\n",
      "left None\n",
      "right None\n",
      "----------------------------------------------------------------------------------------------------\n",
      "60\n",
      "left 27\n",
      "right 96\n",
      "----------------------------------------------------------------------------------------------------\n",
      "27\n",
      "left 23\n",
      "right 53\n",
      "----------------------------------------------------------------------------------------------------\n",
      "23\n",
      "left None\n",
      "right None\n",
      "----------------------------------------------------------------------------------------------------\n",
      "53\n",
      "left 52\n",
      "right 54\n",
      "----------------------------------------------------------------------------------------------------\n",
      "52\n",
      "left None\n",
      "right None\n",
      "----------------------------------------------------------------------------------------------------\n",
      "54\n",
      "left None\n",
      "right 55\n",
      "----------------------------------------------------------------------------------------------------\n",
      "55\n",
      "left None\n",
      "right 56\n",
      "----------------------------------------------------------------------------------------------------\n",
      "56\n",
      "left None\n",
      "right None\n",
      "----------------------------------------------------------------------------------------------------\n",
      "96\n",
      "left 72\n",
      "right None\n",
      "----------------------------------------------------------------------------------------------------\n",
      "72\n",
      "left None\n",
      "right None\n",
      "----------------------------------------------------------------------------------------------------\n"
     ]
    }
   ],
   "source": [
    "tree.add(20)\n",
    "tree.add(60)\n",
    "tree.add(8)\n",
    "tree.add(7)\n",
    "tree.add(27)\n",
    "tree.add(96)\n",
    "tree.add(23)\n",
    "tree.add(53)\n",
    "tree.add(52)\n",
    "tree.add(54)\n",
    "tree.add(55)\n",
    "tree.add(56)\n",
    "tree.add(72)\n",
    "tree.add(2)\n",
    "tree.add(5)\n",
    "\n",
    "tree.tree_print()"
   ]
  },
  {
   "cell_type": "code",
   "execution_count": 33,
   "metadata": {},
   "outputs": [
    {
     "name": "stdout",
     "output_type": "stream",
     "text": [
      "6 \n",
      "2 20 \n",
      "5 8 60 \n",
      "7 27 96 \n",
      "23 53 72 \n",
      "52 54 \n",
      "55 \n",
      "56 \n",
      "0.0001609325408935547\n"
     ]
    }
   ],
   "source": [
    "import time\n",
    "\n",
    "start = time.time()\n",
    "tree.tree_walk_horisontal()\n",
    "print(time.time()-start)"
   ]
  },
  {
   "cell_type": "code",
   "execution_count": 34,
   "metadata": {},
   "outputs": [
    {
     "data": {
      "text/plain": [
       "8"
      ]
     },
     "execution_count": 34,
     "metadata": {},
     "output_type": "execute_result"
    }
   ],
   "source": [
    "tree.height()"
   ]
  },
  {
   "cell_type": "code",
   "execution_count": 35,
   "metadata": {},
   "outputs": [
    {
     "name": "stdout",
     "output_type": "stream",
     "text": [
      "10\n",
      "left 8\n",
      "right 11\n",
      "----------------------------------------------------------------------------------------------------\n",
      "8\n",
      "left 7\n",
      "right 9\n",
      "----------------------------------------------------------------------------------------------------\n",
      "7\n",
      "left 5\n",
      "right None\n",
      "----------------------------------------------------------------------------------------------------\n",
      "5\n",
      "left None\n",
      "right None\n",
      "----------------------------------------------------------------------------------------------------\n",
      "9\n",
      "left None\n",
      "right None\n",
      "----------------------------------------------------------------------------------------------------\n",
      "11\n",
      "left None\n",
      "right None\n",
      "----------------------------------------------------------------------------------------------------\n"
     ]
    }
   ],
   "source": [
    "tree = BinarySearchTree()\n",
    "tree.add(10)\n",
    "tree.add(8)\n",
    "tree.add(9)\n",
    "tree.add(7)\n",
    "tree.add(11)\n",
    "tree.add(5)\n",
    "tree.tree_print()"
   ]
  },
  {
   "cell_type": "code",
   "execution_count": 36,
   "metadata": {},
   "outputs": [
    {
     "name": "stdout",
     "output_type": "stream",
     "text": [
      "8\n",
      "left 7\n",
      "right 10\n",
      "----------------------------------------------------------------------------------------------------\n",
      "7\n",
      "left 5\n",
      "right None\n",
      "----------------------------------------------------------------------------------------------------\n",
      "5\n",
      "left None\n",
      "right None\n",
      "----------------------------------------------------------------------------------------------------\n",
      "10\n",
      "left 9\n",
      "right 11\n",
      "----------------------------------------------------------------------------------------------------\n",
      "9\n",
      "left None\n",
      "right None\n",
      "----------------------------------------------------------------------------------------------------\n",
      "11\n",
      "left None\n",
      "right None\n",
      "----------------------------------------------------------------------------------------------------\n"
     ]
    }
   ],
   "source": [
    "tree.balance()\n",
    "tree.tree_print()"
   ]
  },
  {
   "cell_type": "code",
   "execution_count": 37,
   "metadata": {},
   "outputs": [
    {
     "name": "stdout",
     "output_type": "stream",
     "text": [
      "8\n",
      "left 10\n",
      "right 7\n",
      "----------------------------------------------------------------------------------------------------\n",
      "10\n",
      "left 11\n",
      "right 9\n",
      "----------------------------------------------------------------------------------------------------\n",
      "11\n",
      "left None\n",
      "right None\n",
      "----------------------------------------------------------------------------------------------------\n",
      "9\n",
      "left None\n",
      "right None\n",
      "----------------------------------------------------------------------------------------------------\n",
      "7\n",
      "left None\n",
      "right 5\n",
      "----------------------------------------------------------------------------------------------------\n",
      "5\n",
      "left None\n",
      "right None\n",
      "----------------------------------------------------------------------------------------------------\n"
     ]
    }
   ],
   "source": [
    "tree.invert_tree()\n",
    "tree.tree_print()"
   ]
  }
 ],
 "metadata": {
  "kernelspec": {
   "display_name": "Python 3",
   "language": "python",
   "name": "python3"
  },
  "language_info": {
   "codemirror_mode": {
    "name": "ipython",
    "version": 3
   },
   "file_extension": ".py",
   "mimetype": "text/x-python",
   "name": "python",
   "nbconvert_exporter": "python",
   "pygments_lexer": "ipython3",
   "version": "3.9.6"
  }
 },
 "nbformat": 4,
 "nbformat_minor": 2
}
