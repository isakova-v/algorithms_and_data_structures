{
 "cells": [
  {
   "cell_type": "markdown",
   "metadata": {},
   "source": [
    "Беллман-Форд\n",
    "Сложность - O(VE)"
   ]
  },
  {
   "cell_type": "code",
   "execution_count": 20,
   "metadata": {},
   "outputs": [],
   "source": [
    "graph = {}\n",
    "graph[0] = [(1,-1), (3,-3)]\n",
    "graph[1] = [(0,-1), (2,1)]\n",
    "graph[2] = [(1,1), (4,-4)]\n",
    "graph[3] = [(0,-3), (4,-1)]\n",
    "graph[4] = [(2,-4), (3,-1)]"
   ]
  },
  {
   "cell_type": "code",
   "execution_count": 21,
   "metadata": {},
   "outputs": [],
   "source": [
    "from copy import deepcopy\n",
    "\n",
    "def Bellman_Ford(start, graph):\n",
    "    dist = {i: float('+inf') for i in range(len(graph))}\n",
    "    dist[start] = 0\n",
    "\n",
    "    for i in range(len(graph) - 1):\n",
    "        for u, verts in graph.items():\n",
    "            for v in verts:\n",
    "                if dist[u] + v[1] < dist[v[0]]:\n",
    "                    dist[v[0]] = dist[u] + v[1]\n",
    "\n",
    "    #check negative cycles\n",
    "    for u, verts in graph.items():\n",
    "        for v in verts:\n",
    "            if dist[u] + v[1] < dist[v[0]]:\n",
    "                print('NEGATIVE CYCLE!!! Oh, no....')\n",
    "                return\n",
    "    \n",
    "    return dist"
   ]
  },
  {
   "cell_type": "markdown",
   "metadata": {},
   "source": [
    "Проверяем корректность работы"
   ]
  },
  {
   "cell_type": "code",
   "execution_count": 22,
   "metadata": {},
   "outputs": [
    {
     "name": "stdout",
     "output_type": "stream",
     "text": [
      "NEGATIVE CYCLE!!! Oh, no....\n"
     ]
    }
   ],
   "source": [
    "Bellman_Ford(0, graph)"
   ]
  },
  {
   "cell_type": "code",
   "execution_count": 23,
   "metadata": {},
   "outputs": [
    {
     "data": {
      "text/plain": [
       "{0: 0, 1: 2, 2: 7, 3: 4, 4: -2}"
      ]
     },
     "execution_count": 23,
     "metadata": {},
     "output_type": "execute_result"
    }
   ],
   "source": [
    "graph={}\n",
    "graph[0]=[(1,6),(2,7)]\n",
    "graph[1]=[(2,8),(3,5),(4,-4)]\n",
    "graph[2]=[(3,-3),(3,9)]\n",
    "graph[3]=[(1,-2)]\n",
    "graph[4]=[(0,2),(3,7)]\n",
    "Bellman_Ford(0, graph)"
   ]
  }
 ],
 "metadata": {
  "kernelspec": {
   "display_name": "Python 3",
   "language": "python",
   "name": "python3"
  },
  "language_info": {
   "codemirror_mode": {
    "name": "ipython",
    "version": 3
   },
   "file_extension": ".py",
   "mimetype": "text/x-python",
   "name": "python",
   "nbconvert_exporter": "python",
   "pygments_lexer": "ipython3",
   "version": "3.9.6"
  }
 },
 "nbformat": 4,
 "nbformat_minor": 2
}
