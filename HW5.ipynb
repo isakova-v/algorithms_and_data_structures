{
 "cells": [
  {
   "cell_type": "markdown",
   "metadata": {},
   "source": [
    "Модифицируем предыдущую домашку, вместо data теперь передаем key и value. Само дерево строим, опираясь на key\n",
    "Добавим функцию поиска значения по ключу"
   ]
  },
  {
   "cell_type": "code",
   "execution_count": 29,
   "metadata": {},
   "outputs": [],
   "source": [
    "class Node():\n",
    "    def __init__(self, key, value):\n",
    "        self.key = key\n",
    "        self.value = value\n",
    "        self.color = 'r'\n",
    "        self.left = None\n",
    "        self.right = None\n",
    "        self.parent = None\n",
    "    \n",
    "    def grand(self):\n",
    "        if self.parent is None:\n",
    "            return None\n",
    "        return self.parent.parent\n",
    "    \n",
    "    def sibling(self):\n",
    "        if self.parent is None:\n",
    "            return None\n",
    "        if self == self.parent.left:\n",
    "            return self.parent.right\n",
    "        return self.parent.left\n",
    "    \n",
    "    def uncle(self):\n",
    "        if self.parent is None:\n",
    "            return None\n",
    "        return self.parent.sibling()\n",
    "    \n",
    "    def swap(self):\n",
    "        if self.color == 'r':\n",
    "            self.color = 'b'\n",
    "        else:\n",
    "            self.color = 'r'\n",
    "\n",
    "\n",
    "class RedBlackTree():\n",
    "    def __init__(self):\n",
    "        self.root = None\n",
    "\n",
    "\n",
    "    def depth(self, node):\n",
    "        if node is None:\n",
    "            return 0\n",
    "        else:\n",
    "            if node.color == 'b':\n",
    "                return max(self.depth(node.left), self.depth(node.right)) + 1\n",
    "            else:\n",
    "                return max(self.depth(node.left), self.depth(node.right))\n",
    "    \n",
    "    def smallRotate(self, node, rotDir):\n",
    "\n",
    "        if rotDir == 1: #rotation to the right\n",
    "            left_child = node.left\n",
    "            node.left = left_child.right\n",
    "\n",
    "            if left_child.right is not None:\n",
    "                left_child.right.parent = node\n",
    "            \n",
    "            left_child.parent = node.parent\n",
    "            if node.parent is None:\n",
    "                self.root = left_child\n",
    "            elif node == node.parent.right:\n",
    "                node.parent.right = left_child\n",
    "            else:\n",
    "                node.parent.left = left_child\n",
    "            left_child.right = node\n",
    "            node.parent = left_child\n",
    "            \n",
    "        if rotDir == -1: #rotation to the left\n",
    "            right_child = node.right\n",
    "            node.right = right_child.left\n",
    "            if right_child.left is not None:\n",
    "                right_child.left.parent = node\n",
    "            \n",
    "            right_child.parent = node.parent\n",
    "\n",
    "            if node.parent is None:\n",
    "                self.root = right_child\n",
    "            elif node == node.parent.left:\n",
    "                node.parent.left = right_child\n",
    "            else:\n",
    "                node.parent.right = right_child\n",
    "\n",
    "            right_child.left = node\n",
    "            node.parent = right_child\n",
    "\n",
    "    \n",
    "    def add(self, key, value):\n",
    "        new_node = Node(key, value)\n",
    "        if self.root is None:\n",
    "            self.root = new_node\n",
    "            self.root.swap()\n",
    "            # self.root.left = self.nil\n",
    "            # self.root.right = self.nil\n",
    "\n",
    "        else:\n",
    "            #print(f'root = {self.root.key}')\n",
    "            cur_node = self.root\n",
    "\n",
    "            # new_node.left = self.nil\n",
    "            # new_node.right = self.nil\n",
    "\n",
    "            while cur_node is not None:\n",
    "\n",
    "                if new_node.key < cur_node.key:\n",
    "                    if cur_node.left is None:\n",
    "                        cur_node.left = new_node\n",
    "                        new_node.parent = cur_node\n",
    "                        break\n",
    "                    else:\n",
    "                        cur_node = cur_node.left\n",
    "                elif new_node.key > cur_node.key:\n",
    "                    if cur_node.right is None:\n",
    "                        cur_node.right = new_node\n",
    "                        new_node.parent = cur_node\n",
    "                        break\n",
    "                    else:\n",
    "                        cur_node = cur_node.right\n",
    "                else:\n",
    "                    print('Equal key')\n",
    "                    break\n",
    "            \n",
    "            self.balance(new_node)\n",
    "\n",
    "    def balance(self, node):\n",
    "        while node.parent and node.parent.color == 'r':\n",
    "            if node.parent == node.grand().left:\n",
    "                if node.uncle() and node.uncle().color == 'r':\n",
    "                    #Case 1 - swap color and check grand\n",
    "                    node.parent.swap()\n",
    "                    node.uncle().swap()\n",
    "                    node.grand().swap() #check\n",
    "                    node = node.grand()\n",
    "\n",
    "                else:\n",
    "                    if node == node.parent.right:\n",
    "                        #Case 2 - rotate left\n",
    "                        node = node.parent\n",
    "                        self.smallRotate(node, -1)\n",
    "                    #Case 3 - rotate grand right anf swap colors\n",
    "                    node.parent.swap()\n",
    "                    node.grand().swap()\n",
    "                    self.smallRotate(node.grand(), 1)\n",
    "\n",
    "            else:\n",
    "                if node.uncle() and node.uncle().color == 'r':\n",
    "                    #Case 1 - swap color and check grand\n",
    "                    node.parent.swap()\n",
    "                    node.uncle().swap()\n",
    "                    node.grand().swap() #check\n",
    "                    node = node.grand()\n",
    "                else:\n",
    "                    if node == node.parent.left:\n",
    "                        #Case 2 - rotate right\n",
    "                        node = node.parent\n",
    "                        self.smallRotate(node, 1)\n",
    "                    #Case 3 - rotate grand left and swap colors\n",
    "                    node.parent.swap() #check\n",
    "                    node.grand().swap() #check\n",
    "                    self.smallRotate(node.grand(), -1)\n",
    "        self.root.color = 'b'\n",
    "\n",
    "    def tree_walk_horisontal(self):\n",
    "        if self.root is not None:\n",
    "            self.__tree_walk_hor([self.root])\n",
    "        \n",
    "    def __tree_walk_hor(self, nodes: list):\n",
    "        new_list = []\n",
    "        if len(nodes) == 0:\n",
    "            return\n",
    "        for obj in nodes:\n",
    "            print(obj.key, end = \" \")\n",
    "            if obj.left is not None:\n",
    "                new_list.append(obj.left)\n",
    "            if obj.right is not None:\n",
    "                new_list.append(obj.right)\n",
    "        print()\n",
    "        self.__tree_walk_hor(new_list)\n",
    "    \n",
    "    def search(self, key):\n",
    "        cur_node = self.root\n",
    "        while cur_node is not None:\n",
    "            if key == cur_node.key:\n",
    "                return cur_node.value\n",
    "            elif key < cur_node.key:\n",
    "                cur_node = cur_node.left\n",
    "            else:\n",
    "                cur_node = cur_node.right\n",
    "        return None\n",
    "    \n",
    "    def tree_print(self):\n",
    "        self.__tree_print(self.root)\n",
    "    \n",
    "    def __tree_print(self, node):\n",
    "        if node is not None:\n",
    "            print(f'{node.key}: {node.value}, color = {node.color}')\n",
    "            print(\"left\", node.left.key if (node.left is not None) else None)\n",
    "            print(\"right\", node.right.key if (node.right is not None) else None)\n",
    "            print('-' * 100)\n",
    "            self.__tree_print(node.left)\n",
    "            self.__tree_print(node.right)"
   ]
  },
  {
   "cell_type": "code",
   "execution_count": 30,
   "metadata": {},
   "outputs": [
    {
     "name": "stdout",
     "output_type": "stream",
     "text": [
      "1: Value1, color = b\n",
      "left None\n",
      "right None\n",
      "----------------------------------------------------------------------------------------------------\n"
     ]
    }
   ],
   "source": [
    "tree = RedBlackTree()\n",
    "tree.add(1, 'Value1')\n",
    "tree.tree_print()"
   ]
  },
  {
   "cell_type": "code",
   "execution_count": 31,
   "metadata": {},
   "outputs": [
    {
     "name": "stdout",
     "output_type": "stream",
     "text": [
      "1: Value1, color = b\n",
      "left None\n",
      "right 2\n",
      "----------------------------------------------------------------------------------------------------\n",
      "2: Value2, color = r\n",
      "left None\n",
      "right None\n",
      "----------------------------------------------------------------------------------------------------\n"
     ]
    }
   ],
   "source": [
    "tree.add(2, 'Value2')\n",
    "tree.tree_print()"
   ]
  },
  {
   "cell_type": "code",
   "execution_count": 32,
   "metadata": {},
   "outputs": [
    {
     "name": "stdout",
     "output_type": "stream",
     "text": [
      "2: Value2, color = b\n",
      "left 1\n",
      "right 3\n",
      "----------------------------------------------------------------------------------------------------\n",
      "1: Value1, color = r\n",
      "left None\n",
      "right None\n",
      "----------------------------------------------------------------------------------------------------\n",
      "3: Value3, color = r\n",
      "left None\n",
      "right None\n",
      "----------------------------------------------------------------------------------------------------\n"
     ]
    }
   ],
   "source": [
    "tree.add(3, 'Value3')\n",
    "tree.tree_print()"
   ]
  },
  {
   "cell_type": "code",
   "execution_count": 33,
   "metadata": {},
   "outputs": [
    {
     "name": "stdout",
     "output_type": "stream",
     "text": [
      "2: Value2, color = b\n",
      "left 1\n",
      "right 3\n",
      "----------------------------------------------------------------------------------------------------\n",
      "1: Value1, color = b\n",
      "left None\n",
      "right None\n",
      "----------------------------------------------------------------------------------------------------\n",
      "3: Value3, color = b\n",
      "left None\n",
      "right 4\n",
      "----------------------------------------------------------------------------------------------------\n",
      "4: Value4, color = r\n",
      "left None\n",
      "right None\n",
      "----------------------------------------------------------------------------------------------------\n"
     ]
    }
   ],
   "source": [
    "tree.add(4, 'Value4')\n",
    "tree.tree_print()"
   ]
  },
  {
   "cell_type": "code",
   "execution_count": 34,
   "metadata": {},
   "outputs": [
    {
     "name": "stdout",
     "output_type": "stream",
     "text": [
      "2 \n",
      "1 3 \n",
      "4 \n"
     ]
    }
   ],
   "source": [
    "tree.tree_walk_horisontal()"
   ]
  },
  {
   "cell_type": "code",
   "execution_count": 35,
   "metadata": {},
   "outputs": [
    {
     "name": "stdout",
     "output_type": "stream",
     "text": [
      "2: Value2, color = b\n",
      "left 1\n",
      "right 4\n",
      "----------------------------------------------------------------------------------------------------\n",
      "1: Value1, color = b\n",
      "left None\n",
      "right None\n",
      "----------------------------------------------------------------------------------------------------\n",
      "4: Value4, color = b\n",
      "left 3\n",
      "right 5\n",
      "----------------------------------------------------------------------------------------------------\n",
      "3: Value3, color = r\n",
      "left None\n",
      "right None\n",
      "----------------------------------------------------------------------------------------------------\n",
      "5: Value5, color = r\n",
      "left None\n",
      "right None\n",
      "----------------------------------------------------------------------------------------------------\n"
     ]
    }
   ],
   "source": [
    "tree.add(5, 'Value5')\n",
    "tree.tree_print()"
   ]
  },
  {
   "cell_type": "code",
   "execution_count": 36,
   "metadata": {},
   "outputs": [
    {
     "name": "stdout",
     "output_type": "stream",
     "text": [
      "20: Value20, color = b\n",
      "left 10\n",
      "right 30\n",
      "----------------------------------------------------------------------------------------------------\n",
      "10: Value10, color = b\n",
      "left None\n",
      "right 15\n",
      "----------------------------------------------------------------------------------------------------\n",
      "15: Value15, color = r\n",
      "left None\n",
      "right None\n",
      "----------------------------------------------------------------------------------------------------\n",
      "30: Value30, color = b\n",
      "left None\n",
      "right None\n",
      "----------------------------------------------------------------------------------------------------\n"
     ]
    }
   ],
   "source": [
    "tree1 = RedBlackTree()\n",
    "tree1.add(10, \"Value10\")\n",
    "tree1.add(20, \"Value20\")\n",
    "tree1.add(30, \"Value30\")\n",
    "tree1.add(15, \"Value15\")\n",
    "\n",
    "tree1.tree_print()"
   ]
  },
  {
   "cell_type": "code",
   "execution_count": null,
   "metadata": {},
   "outputs": [
    {
     "name": "stdout",
     "output_type": "stream",
     "text": [
      "Поиск ключа 20: Value20\n",
      "Поиск ключа 100: None\n"
     ]
    }
   ],
   "source": [
    "print(\"Поиск ключа 20:\", tree1.search(20))\n",
    "print(\"Поиск ключа 100:\", tree.search(100))"
   ]
  }
 ],
 "metadata": {
  "kernelspec": {
   "display_name": "Python 3",
   "language": "python",
   "name": "python3"
  },
  "language_info": {
   "codemirror_mode": {
    "name": "ipython",
    "version": 3
   },
   "file_extension": ".py",
   "mimetype": "text/x-python",
   "name": "python",
   "nbconvert_exporter": "python",
   "pygments_lexer": "ipython3",
   "version": "3.9.6"
  }
 },
 "nbformat": 4,
 "nbformat_minor": 2
}
