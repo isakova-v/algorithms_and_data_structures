{
 "cells": [
  {
   "cell_type": "markdown",
   "metadata": {},
   "source": [
    "ReverseLinkedList:\n",
    "time complexity - O(N)\n",
    "memory complexicity - O(1)"
   ]
  },
  {
   "cell_type": "code",
   "execution_count": 16,
   "metadata": {},
   "outputs": [],
   "source": [
    "class Node():\n",
    "    def __init__(self, data):\n",
    "        self.data = data\n",
    "        self.next = None\n",
    "\n",
    "class LinkedList():\n",
    "    def __init__(self):\n",
    "        self.head = None\n",
    "\n",
    "    def add(self, data):\n",
    "        if self.head is None:\n",
    "            self.head = Node(data)\n",
    "        else:\n",
    "            node = self.head\n",
    "            while node.next is not None:\n",
    "                node = node.next\n",
    "            node.next = Node(data)\n",
    "\n",
    "    def delete(self, index):\n",
    "        if self.head is None:\n",
    "            print('empty list')\n",
    "            return\n",
    "        else:\n",
    "            count = 0\n",
    "            node = self.head\n",
    "            prev = None\n",
    "            while count != index and node is not None:\n",
    "                prev = node\n",
    "                node = node.next\n",
    "                count += 1\n",
    "            if count == index:\n",
    "                if index == 0:\n",
    "                    self.head = self.head.next\n",
    "                else:\n",
    "                    prev.next = node.next\n",
    "            \n",
    "            \n",
    "\n",
    "    def insert(self, data, index):\n",
    "        if index == 0:\n",
    "            new_node = Node(data)\n",
    "            new_node.next = self.head\n",
    "            self.head = new_node\n",
    "            return\n",
    "            \n",
    "        if self.head is None:\n",
    "            print('empty list')\n",
    "            return\n",
    "        else:\n",
    "            count = 0\n",
    "            prev = None\n",
    "            node = self.head\n",
    "            while count != index and node is not None:\n",
    "                prev = node\n",
    "                node = node.next\n",
    "                count += 1\n",
    "            if count == index:\n",
    "                new_node = Node(data)\n",
    "                new_node.next = prev.next\n",
    "                prev.next = new_node\n",
    "\n",
    "    def print(self):\n",
    "        if self.head is not None:\n",
    "            node = self.head\n",
    "            while node is not None:\n",
    "                print(node.data)\n",
    "                node = node.next\n",
    "\n",
    "    def __print(self, node):\n",
    "        if node is not None:\n",
    "            print(node.data)\n",
    "            self.__print(node.next)\n",
    "    \n",
    "    def print_rec(self):\n",
    "        self.__print(self.head)       \n",
    "\n",
    "\n",
    "    def reverseList(self):\n",
    "        prev = None\n",
    "        next = None\n",
    "        cur = self.head\n",
    "        while cur is not None:\n",
    "            next = cur.next\n",
    "            cur.next = prev\n",
    "\n",
    "            prev = cur\n",
    "            cur = next\n",
    "        self.head = prev"
   ]
  },
  {
   "cell_type": "code",
   "execution_count": 17,
   "metadata": {},
   "outputs": [],
   "source": [
    "a = LinkedList()\n",
    "a.add(1)\n",
    "a.add(2)\n",
    "a.add(3)\n",
    "a.add(4)\n",
    "a.add(5)"
   ]
  },
  {
   "cell_type": "code",
   "execution_count": 18,
   "metadata": {},
   "outputs": [
    {
     "name": "stdout",
     "output_type": "stream",
     "text": [
      "1\n",
      "2\n",
      "3\n",
      "4\n",
      "5\n"
     ]
    }
   ],
   "source": [
    "a.print_rec()"
   ]
  },
  {
   "cell_type": "code",
   "execution_count": 19,
   "metadata": {},
   "outputs": [
    {
     "name": "stdout",
     "output_type": "stream",
     "text": [
      "5\n",
      "4\n",
      "3\n",
      "2\n",
      "1\n"
     ]
    }
   ],
   "source": [
    "a.reverseList()\n",
    "a.print_rec()"
   ]
  }
 ],
 "metadata": {
  "kernelspec": {
   "display_name": "Python 3",
   "language": "python",
   "name": "python3"
  },
  "language_info": {
   "codemirror_mode": {
    "name": "ipython",
    "version": 3
   },
   "file_extension": ".py",
   "mimetype": "text/x-python",
   "name": "python",
   "nbconvert_exporter": "python",
   "pygments_lexer": "ipython3",
   "version": "3.9.6"
  }
 },
 "nbformat": 4,
 "nbformat_minor": 2
}
